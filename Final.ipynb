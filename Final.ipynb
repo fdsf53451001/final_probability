{
 "cells": [
  {
   "cell_type": "code",
   "execution_count": 104,
   "id": "e513af18",
   "metadata": {},
   "outputs": [],
   "source": [
    "import numpy as np\n",
    "import scipy.special as sp\n",
    "import scipy.stats as st\n",
    "import pandas as pd\n",
    "import math"
   ]
  },
  {
   "cell_type": "code",
   "execution_count": 70,
   "id": "bbcb4e70",
   "metadata": {},
   "outputs": [],
   "source": [
    "n= 10 \n",
    "μ= 5\n",
    "σ= 2"
   ]
  },
  {
   "cell_type": "code",
   "execution_count": 74,
   "id": "2a626d38",
   "metadata": {},
   "outputs": [
    {
     "data": {
      "text/plain": [
       "5"
      ]
     },
     "execution_count": 74,
     "metadata": {},
     "output_type": "execute_result"
    }
   ],
   "source": [
    "#Q1.1 X_BAR抽樣分布\n",
    "# E(X_BAR)= μ = 5\n",
    "μ"
   ]
  },
  {
   "cell_type": "code",
   "execution_count": 80,
   "id": "5d9aa755",
   "metadata": {},
   "outputs": [
    {
     "data": {
      "text/plain": [
       "4"
      ]
     },
     "execution_count": 80,
     "metadata": {},
     "output_type": "execute_result"
    }
   ],
   "source": [
    "#Q1.2\n",
    "# E(S^2) = σ^2 = 4\n",
    "σ**2"
   ]
  },
  {
   "cell_type": "code",
   "execution_count": 91,
   "id": "157eb972",
   "metadata": {},
   "outputs": [
    {
     "data": {
      "text/plain": [
       "0"
      ]
     },
     "execution_count": 91,
     "metadata": {},
     "output_type": "execute_result"
    }
   ],
   "source": [
    "#Q1.3 \n",
    "# E(T) = (E(X_BAR)-mu)/(E(S)/sqrt(n)) = 0\n",
    "0"
   ]
  },
  {
   "cell_type": "code",
   "execution_count": 93,
   "id": "eab19891",
   "metadata": {},
   "outputs": [
    {
     "data": {
      "text/plain": [
       "0.4"
      ]
     },
     "execution_count": 93,
     "metadata": {},
     "output_type": "execute_result"
    }
   ],
   "source": [
    "#Q1.4 X_BAR抽樣分布\n",
    "# Var(X_BAR)=σ^2/n = 4/10\n",
    "σ**2/n"
   ]
  },
  {
   "cell_type": "code",
   "execution_count": 94,
   "id": "425dffee",
   "metadata": {},
   "outputs": [
    {
     "data": {
      "text/plain": [
       "3.5555555555555554"
      ]
     },
     "execution_count": 94,
     "metadata": {},
     "output_type": "execute_result"
    }
   ],
   "source": [
    "#Q1.5\n",
    "2*σ**4/(n-1)"
   ]
  },
  {
   "cell_type": "code",
   "execution_count": 95,
   "id": "cef1280b",
   "metadata": {},
   "outputs": [
    {
     "data": {
      "text/plain": [
       "1.2857142857142858"
      ]
     },
     "execution_count": 95,
     "metadata": {},
     "output_type": "execute_result"
    }
   ],
   "source": [
    "#Q1.6\n",
    "(n-1)/(n-3)"
   ]
  },
  {
   "cell_type": "code",
   "execution_count": 128,
   "id": "48143230",
   "metadata": {},
   "outputs": [
    {
     "data": {
      "text/plain": [
       "0.02699548325659403"
      ]
     },
     "execution_count": 128,
     "metadata": {},
     "output_type": "execute_result"
    }
   ],
   "source": [
    "#Q1.7\n",
    "# X_BAR ~ Norm(μ,σ/sqrt(n)) ~ Norm(5,2/sqrt(10))\n",
    "x=1 #put x here\n",
    "1/(σ*((2*math.pi)**0.5))*(math.exp(((x-μ)**2)/(-2*σ**2)))"
   ]
  },
  {
   "cell_type": "code",
   "execution_count": 131,
   "id": "888b679e",
   "metadata": {},
   "outputs": [
    {
     "data": {
      "text/plain": [
       "0.002304483090658508"
      ]
     },
     "execution_count": 131,
     "metadata": {},
     "output_type": "execute_result"
    }
   ],
   "source": [
    "#Q1.8 ??\n",
    "v=n-1\n",
    "gamma = sp.gamma\n",
    "q=1 #put q here\n",
    "1/(2**(v/2)*gamma(v/2))*(q**(v/2-1))*math.exp(-q/2)"
   ]
  },
  {
   "cell_type": "code",
   "execution_count": 130,
   "id": "d72112b5",
   "metadata": {},
   "outputs": [
    {
     "data": {
      "text/plain": [
       "0.5904899999999998"
      ]
     },
     "execution_count": 130,
     "metadata": {},
     "output_type": "execute_result"
    }
   ],
   "source": [
    "#Q1.9\n",
    "v=n-1\n",
    "t=1 #put t here\n",
    "(1+t**2/v)**(-(1/2)*(1+v))"
   ]
  },
  {
   "cell_type": "code",
   "execution_count": 110,
   "id": "326b1a7e",
   "metadata": {},
   "outputs": [
    {
     "data": {
      "text/plain": [
       "0.8861537019933419"
      ]
     },
     "execution_count": 110,
     "metadata": {},
     "output_type": "execute_result"
    }
   ],
   "source": [
    "#Q1.10\n",
    "st.norm.cdf(x=6,loc=5,scale=2/10**.5)-st.norm.cdf(x=4,loc=5,scale=2/10**.5)"
   ]
  },
  {
   "cell_type": "code",
   "execution_count": 111,
   "id": "729d2b61",
   "metadata": {},
   "outputs": [
    {
     "data": {
      "text/plain": [
       "0.12998671249168164"
      ]
     },
     "execution_count": 111,
     "metadata": {},
     "output_type": "execute_result"
    }
   ],
   "source": [
    "#Q1.11 ??\n",
    "st.chi2.cdf(5,df=n-1)-st.chi2.cdf(3,df=n-1)"
   ]
  },
  {
   "cell_type": "code",
   "execution_count": 112,
   "id": "a20e200b",
   "metadata": {},
   "outputs": [
    {
     "data": {
      "text/plain": [
       "0.6565636038620863"
      ]
     },
     "execution_count": 112,
     "metadata": {},
     "output_type": "execute_result"
    }
   ],
   "source": [
    "#Q1.12\n",
    "st.t.cdf(1,df=n-1)-st.t.cdf(-1,df=n-1)"
   ]
  },
  {
   "cell_type": "code",
   "execution_count": 113,
   "id": "23b06d7b",
   "metadata": {},
   "outputs": [
    {
     "data": {
      "text/plain": [
       "(3.760409935390877, 6.239590064609123)"
      ]
     },
     "execution_count": 113,
     "metadata": {},
     "output_type": "execute_result"
    }
   ],
   "source": [
    "#Q1.13\n",
    "st.norm.interval(alpha=0.95,loc=μ,scale=σ/n**.5)"
   ]
  },
  {
   "cell_type": "code",
   "execution_count": 114,
   "id": "d6672c99",
   "metadata": {},
   "outputs": [
    {
     "name": "stdout",
     "output_type": "stream",
     "text": [
      "1.8924690865737568 13.331410154076606\n"
     ]
    }
   ],
   "source": [
    "#Q1.14\n",
    "chi2_int = st.chi2.interval(alpha=0.95,df=n-1)\n",
    "print((n-1)*(σ**2)/chi2_int[1],(n-1)*(σ**2)/chi2_int[0])"
   ]
  },
  {
   "cell_type": "code",
   "execution_count": 115,
   "id": "0c5e0beb",
   "metadata": {},
   "outputs": [
    {
     "data": {
      "text/plain": [
       "(-2.2621571627409915, 2.2621571627409915)"
      ]
     },
     "execution_count": 115,
     "metadata": {},
     "output_type": "execute_result"
    }
   ],
   "source": [
    "#Q1.15\n",
    "st.t.interval(alpha=0.95,df=n-1)"
   ]
  },
  {
   "cell_type": "code",
   "execution_count": 116,
   "id": "2f61a8ca",
   "metadata": {},
   "outputs": [
    {
     "data": {
      "text/plain": [
       "count    10000.0\n",
       "mean       159.8\n",
       "std          9.9\n",
       "min        122.6\n",
       "25%        153.1\n",
       "50%        159.7\n",
       "75%        166.5\n",
       "max        198.0\n",
       "dtype: float64"
      ]
     },
     "execution_count": 116,
     "metadata": {},
     "output_type": "execute_result"
    },
    {
     "data": {
      "image/png": "[encoded data removed]",
      "text/plain": [
       "<Figure size 432x288 with 1 Axes>"
      ]
     },
     "metadata": {
      "needs_background": "light"
     },
     "output_type": "display_data"
    }
   ],
   "source": [
    "# 針對某大學全體學生做了一次身高普查，學生總數 N= 10000\n",
    "# 普查資料 存放在 X \n",
    "\n",
    "# 先以模擬方式製造一堆 (size= 10000) 符合此種分布的實驗數據\n",
    "\n",
    "np.random.seed(0)\n",
    "X= st.norm.rvs(size=10000, loc= 160, scale=10)\n",
    "\n",
    "# 畫出 分布圖，\n",
    "# 並觀察母體平均數 mu= E(X)=μ== 159.8, \n",
    "# 以及 標準差 sigma= Std(X)=σ== 9.9\n",
    "\n",
    "X= pd.Series(X)\n",
    "X.hist(bins= 100, grid=True)\n",
    "X.describe().round(1)"
   ]
  },
  {
   "cell_type": "code",
   "execution_count": 117,
   "id": "6dad216d",
   "metadata": {},
   "outputs": [
    {
     "data": {
      "text/html": [
       "<div>\n",
       "<style scoped>\n",
       "    .dataframe tbody tr th:only-of-type {\n",
       "        vertical-align: middle;\n",
       "    }\n",
       "\n",
       "    .dataframe tbody tr th {\n",
       "        vertical-align: top;\n",
       "    }\n",
       "\n",
       "    .dataframe thead th {\n",
       "        text-align: right;\n",
       "    }\n",
       "</style>\n",
       "<table border=\"1\" class=\"dataframe\">\n",
       "  <thead>\n",
       "    <tr style=\"text-align: right;\">\n",
       "      <th>學號</th>\n",
       "      <th>9394</th>\n",
       "      <th>898</th>\n",
       "      <th>2398</th>\n",
       "      <th>5906</th>\n",
       "      <th>2343</th>\n",
       "      <th>8225</th>\n",
       "      <th>5506</th>\n",
       "      <th>6451</th>\n",
       "      <th>2670</th>\n",
       "      <th>3497</th>\n",
       "    </tr>\n",
       "  </thead>\n",
       "  <tbody>\n",
       "    <tr>\n",
       "      <th>身高(cm)</th>\n",
       "      <td>147.6</td>\n",
       "      <td>185.9</td>\n",
       "      <td>154.0</td>\n",
       "      <td>147.2</td>\n",
       "      <td>168.6</td>\n",
       "      <td>146.8</td>\n",
       "      <td>162.6</td>\n",
       "      <td>164.1</td>\n",
       "      <td>152.2</td>\n",
       "      <td>171.8</td>\n",
       "    </tr>\n",
       "  </tbody>\n",
       "</table>\n",
       "</div>"
      ],
      "text/plain": [
       "學號       9394   898    2398   5906   2343   8225   5506   6451   2670   3497\n",
       "身高(cm)  147.6  185.9  154.0  147.2  168.6  146.8  162.6  164.1  152.2  171.8"
      ]
     },
     "execution_count": 117,
     "metadata": {},
     "output_type": "execute_result"
    }
   ],
   "source": [
    "# 他隨機調查了 n=10 位同學 的身高資料\n",
    "np.random.seed(0)\n",
    "smpSize= 10\n",
    "smpX= X.sample(n= smpSize)\n",
    "smpX.round(1)\n",
    "aDF= pd.DataFrame(smpX,columns=['身高(cm)'])\n",
    "aDF.index.name='學號'\n",
    "aDF.T.round(1)"
   ]
  },
  {
   "cell_type": "code",
   "execution_count": 118,
   "id": "08bfb208",
   "metadata": {},
   "outputs": [],
   "source": [
    "E_Xi_1 = smpX.mean()\n",
    "E_Si_2_1 = smpX.std()"
   ]
  },
  {
   "cell_type": "code",
   "execution_count": 119,
   "id": "3347231f",
   "metadata": {},
   "outputs": [
    {
     "data": {
      "text/plain": [
       "160.08338000005944"
      ]
     },
     "execution_count": 119,
     "metadata": {},
     "output_type": "execute_result"
    }
   ],
   "source": [
    "#Q2.16\n",
    "E_X_BAR_1 = E_Xi_1\n",
    "E_X_BAR_1"
   ]
  },
  {
   "cell_type": "code",
   "execution_count": 120,
   "id": "6d5e0088",
   "metadata": {},
   "outputs": [
    {
     "data": {
      "text/plain": [
       "4.080865381756629"
      ]
     },
     "execution_count": 120,
     "metadata": {},
     "output_type": "execute_result"
    }
   ],
   "source": [
    "#Q2.17 \n",
    "#VAR_X_BAR = σ^2/n\n",
    "VAR_X_BAR_1 =  (E_Si_2_1**2/smpSize)**.5\n",
    "VAR_X_BAR_1"
   ]
  },
  {
   "cell_type": "code",
   "execution_count": 121,
   "id": "b1436f78",
   "metadata": {},
   "outputs": [
    {
     "data": {
      "text/plain": [
       "(152.08503082606015, 168.08172917405872)"
      ]
     },
     "execution_count": 121,
     "metadata": {},
     "output_type": "execute_result"
    }
   ],
   "source": [
    "#Q2.18\n",
    "INT_1 = st.norm.interval(alpha=0.95,loc=E_X_BAR_1,scale=VAR_X_BAR_1)\n",
    "INT_1"
   ]
  },
  {
   "cell_type": "code",
   "execution_count": 122,
   "id": "0715f044",
   "metadata": {},
   "outputs": [
    {
     "data": {
      "text/html": [
       "<div>\n",
       "<style scoped>\n",
       "    .dataframe tbody tr th:only-of-type {\n",
       "        vertical-align: middle;\n",
       "    }\n",
       "\n",
       "    .dataframe tbody tr th {\n",
       "        vertical-align: top;\n",
       "    }\n",
       "\n",
       "    .dataframe thead th {\n",
       "        text-align: right;\n",
       "    }\n",
       "</style>\n",
       "<table border=\"1\" class=\"dataframe\">\n",
       "  <thead>\n",
       "    <tr style=\"text-align: right;\">\n",
       "      <th>學號</th>\n",
       "      <th>9394</th>\n",
       "      <th>898</th>\n",
       "      <th>2398</th>\n",
       "      <th>5906</th>\n",
       "      <th>2343</th>\n",
       "      <th>8225</th>\n",
       "      <th>5506</th>\n",
       "      <th>6451</th>\n",
       "      <th>2670</th>\n",
       "      <th>3497</th>\n",
       "    </tr>\n",
       "  </thead>\n",
       "  <tbody>\n",
       "    <tr>\n",
       "      <th>身高(cm)</th>\n",
       "      <td>147.6</td>\n",
       "      <td>185.9</td>\n",
       "      <td>154.0</td>\n",
       "      <td>147.2</td>\n",
       "      <td>168.6</td>\n",
       "      <td>146.8</td>\n",
       "      <td>162.6</td>\n",
       "      <td>164.1</td>\n",
       "      <td>152.2</td>\n",
       "      <td>171.8</td>\n",
       "    </tr>\n",
       "  </tbody>\n",
       "</table>\n",
       "</div>"
      ],
      "text/plain": [
       "學號       9394   898    2398   5906   2343   8225   5506   6451   2670   3497\n",
       "身高(cm)  147.6  185.9  154.0  147.2  168.6  146.8  162.6  164.1  152.2  171.8"
      ]
     },
     "execution_count": 122,
     "metadata": {},
     "output_type": "execute_result"
    }
   ],
   "source": [
    "# 這位同學 在另一日額外取得 另 10 位 同學的身高資料\n",
    "# 他把這批資料併入原始資料，成為一份20人的資料，\n",
    "# 重新計算所有統計量並獲得信心區間的重新估測。\n",
    "#\n",
    "smpSize= 20\n",
    "np.random.seed(0) #000\n",
    "smpX= X.sample(n= smpSize)\n",
    "smpX.round(1)\n",
    "aDF= pd.DataFrame(smpX,columns=['身高(cm)'])\n",
    "aDF.index.name='學號'\n",
    "\n",
    "#aDF.round(1)\n",
    "#aDF.T.round(1)\n",
    "\n",
    "# 以下分2列來顯示以利觀看\n",
    "aDF.iloc[:10].T.round(1)"
   ]
  },
  {
   "cell_type": "code",
   "execution_count": 123,
   "id": "2cbe15b3",
   "metadata": {},
   "outputs": [
    {
     "data": {
      "text/html": [
       "<div>\n",
       "<style scoped>\n",
       "    .dataframe tbody tr th:only-of-type {\n",
       "        vertical-align: middle;\n",
       "    }\n",
       "\n",
       "    .dataframe tbody tr th {\n",
       "        vertical-align: top;\n",
       "    }\n",
       "\n",
       "    .dataframe thead th {\n",
       "        text-align: right;\n",
       "    }\n",
       "</style>\n",
       "<table border=\"1\" class=\"dataframe\">\n",
       "  <thead>\n",
       "    <tr style=\"text-align: right;\">\n",
       "      <th>學號</th>\n",
       "      <th>1087</th>\n",
       "      <th>1819</th>\n",
       "      <th>2308</th>\n",
       "      <th>6084</th>\n",
       "      <th>3724</th>\n",
       "      <th>3184</th>\n",
       "      <th>6387</th>\n",
       "      <th>3728</th>\n",
       "      <th>2702</th>\n",
       "      <th>7883</th>\n",
       "    </tr>\n",
       "  </thead>\n",
       "  <tbody>\n",
       "    <tr>\n",
       "      <th>身高(cm)</th>\n",
       "      <td>151.4</td>\n",
       "      <td>152.0</td>\n",
       "      <td>177.1</td>\n",
       "      <td>155.1</td>\n",
       "      <td>159.8</td>\n",
       "      <td>188.0</td>\n",
       "      <td>163.7</td>\n",
       "      <td>178.6</td>\n",
       "      <td>144.0</td>\n",
       "      <td>161.8</td>\n",
       "    </tr>\n",
       "  </tbody>\n",
       "</table>\n",
       "</div>"
      ],
      "text/plain": [
       "學號       1087   1819   2308   6084   3724   3184   6387   3728   2702   7883\n",
       "身高(cm)  151.4  152.0  177.1  155.1  159.8  188.0  163.7  178.6  144.0  161.8"
      ]
     },
     "execution_count": 123,
     "metadata": {},
     "output_type": "execute_result"
    }
   ],
   "source": [
    "aDF.iloc[10:].T.round(1)"
   ]
  },
  {
   "cell_type": "code",
   "execution_count": 124,
   "id": "c6f2335f",
   "metadata": {},
   "outputs": [],
   "source": [
    "E_Xi_2 = smpX.mean()\n",
    "E_Si_2_2 = smpX.std()\n",
    "E_X_BAR_2 = E_Xi_2\n",
    "VAR_X_BAR_2 =  (E_Si_2**2/smpSize)**.5"
   ]
  },
  {
   "cell_type": "code",
   "execution_count": 125,
   "id": "d0cb608b",
   "metadata": {},
   "outputs": [
    {
     "data": {
      "text/plain": [
       "(155.83555183627425, 167.39689482915537)"
      ]
     },
     "execution_count": 125,
     "metadata": {},
     "output_type": "execute_result"
    }
   ],
   "source": [
    "#Q2.19\n",
    "INT_2 = st.norm.interval(alpha=0.95,loc=E_X_BAR_2,scale=VAR_X_BAR_2)\n",
    "INT_2"
   ]
  },
  {
   "cell_type": "code",
   "execution_count": 126,
   "id": "07f7a77d",
   "metadata": {},
   "outputs": [
    {
     "data": {
      "text/plain": [
       "15.996698347998574"
      ]
     },
     "execution_count": 126,
     "metadata": {},
     "output_type": "execute_result"
    }
   ],
   "source": [
    "#Q2.20\n",
    "LENGTH_1 = (INT_1[1]-E_X_BAR_1)*2\n",
    "LENGTH_1"
   ]
  },
  {
   "cell_type": "code",
   "execution_count": 127,
   "id": "a1da3c9d",
   "metadata": {},
   "outputs": [
    {
     "data": {
      "text/plain": [
       "11.561342992881123"
      ]
     },
     "execution_count": 127,
     "metadata": {},
     "output_type": "execute_result"
    }
   ],
   "source": [
    "LENGTH_2 = (INT_2[1]-E_X_BAR_2)*2\n",
    "LENGTH_2"
   ]
  },
  {
   "cell_type": "code",
   "execution_count": null,
   "id": "f1b56ac6",
   "metadata": {},
   "outputs": [],
   "source": [
    "# 20人資料 寬度比較小"
   ]
  }
 ],
 "metadata": {
  "kernelspec": {
   "display_name": "Python 3",
   "language": "python",
   "name": "python3"
  },
  "language_info": {
   "codemirror_mode": {
    "name": "ipython",
    "version": 3
   },
   "file_extension": ".py",
   "mimetype": "text/x-python",
   "name": "python",
   "nbconvert_exporter": "python",
   "pygments_lexer": "ipython3",
   "version": "3.8.8"
  }
 },
 "nbformat": 4,
 "nbformat_minor": 5
}
